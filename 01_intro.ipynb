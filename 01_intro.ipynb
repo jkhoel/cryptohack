{
 "cells": [
  {
   "cell_type": "markdown",
   "metadata": {},
   "source": [
    "# Cryptohack.org Intro\n",
    "\n",
    "My solutions for the challenges in the Intro course. Code can also be found as seperate files in `./intro` folder"
   ]
  },
  {
   "cell_type": "markdown",
   "metadata": {},
   "source": [
    "---\n",
    "\n",
    "### 01: Great Snakes\n",
    "\n",
    "Modern cryptography involves code, and code involves coding. CryptoHack provides a good opportunity to sharpen your skills.\n",
    "\n",
    "Of all modern programming languages, Python 3 stands out as ideal for quickly writing cryptographic scripts and attacks. For more information about why we think Python is so great for this, please see the FAQ.\n",
    "\n",
    "Run the attached Python script and it will output your flag."
   ]
  },
  {
   "cell_type": "code",
   "execution_count": 17,
   "metadata": {},
   "outputs": [
    {
     "name": "stdout",
     "output_type": "stream",
     "text": [
      "Here is your flag:\n",
      "crypto{z3n_0f_pyth0n}\n"
     ]
    }
   ],
   "source": [
    "#!/usr/bin/env python3\n",
    "import sys\n",
    "\n",
    "if sys.version_info.major == 2:\n",
    "    print(\"You are running Python 2, which is no longer supported. Please update to Python 3.\")\n",
    "\n",
    "ords = [81, 64, 75, 66, 70, 93, 73, 72, 1, 92, 109, 2, 84, 109, 66, 75, 70, 90, 2, 92, 79]\n",
    "\n",
    "print(\"Here is your flag:\")\n",
    "print(\"\".join(chr(o ^ 0x32) for o in ords))"
   ]
  },
  {
   "cell_type": "markdown",
   "metadata": {},
   "source": [
    "---\n",
    "\n",
    "### 02: ASCII\n",
    "\n",
    "ASCII is a 7-bit encoding standard which allows the representation of text using the integers 0-127.\n",
    "\n",
    "Using the below integer array, convert the numbers to their corresponding ASCII characters to obtain a flag."
   ]
  },
  {
   "cell_type": "code",
   "execution_count": 18,
   "metadata": {},
   "outputs": [
    {
     "name": "stdout",
     "output_type": "stream",
     "text": [
      "Here is your flag:\n",
      "crypto{ASCII_pr1nt4bl3}\n"
     ]
    }
   ],
   "source": [
    "_arr = [99, 114, 121, 112, 116, 111, 123, 65, 83, 67, 73,\n",
    "        73, 95, 112, 114, 49, 110, 116, 52, 98, 108, 51, 125]\n",
    "\n",
    "str = \"\"\n",
    "\n",
    "for i in _arr:\n",
    "    str += chr(i)\n",
    "\n",
    "print(\"Here is your flag:\")\n",
    "print(str)\n"
   ]
  },
  {
   "cell_type": "markdown",
   "metadata": {},
   "source": [
    "---\n",
    "\n",
    "### 03: HEX\n",
    "\n",
    "When we encrypt something the resulting ciphertext commonly has bytes which are not printable ASCII characters. If we want to share our encrypted data, it's common to encode it into something more user-friendly and portable across different systems.\n",
    "\n",
    "Included below is a flag encoded as a hex string. Decode this back into bytes to get the flag."
   ]
  },
  {
   "cell_type": "code",
   "execution_count": 19,
   "metadata": {},
   "outputs": [
    {
     "name": "stdout",
     "output_type": "stream",
     "text": [
      "Here is your flag:\n",
      "b'crypto{You_will_be_working_with_hex_strings_a_lot}'\n"
     ]
    }
   ],
   "source": [
    "_hex = \"63727970746f7b596f755f77696c6c5f62655f776f726b696e675f776974685f6865785f737472696e67735f615f6c6f747d\"\n",
    "\n",
    "print(\"Here is your flag:\")\n",
    "print(bytes.fromhex(_hex))\n"
   ]
  },
  {
   "cell_type": "markdown",
   "metadata": {},
   "source": [
    "---\n",
    "\n",
    "### 04: Base64 decoding\n",
    "\n",
    "Another common encoding scheme is Base64, which allows us to represent binary data as an ASCII string using 64 characters. One character of a Base64 string encodes 6 bits, and so 4 characters of Base64 encode three 8-bit bytes.\n",
    "\n",
    "Base64 is most commonly used online, so binary data such as images can be easily included into HTML or CSS files.\n",
    "\n",
    "Take the below hex string, _decode_ it into bytes and then _encode_ it into Base64."
   ]
  },
  {
   "cell_type": "code",
   "execution_count": 20,
   "metadata": {},
   "outputs": [
    {
     "name": "stdout",
     "output_type": "stream",
     "text": [
      "Here is your flag:\n",
      "b'crypto/Base+64+Encoding+is+Web+Safe/'\n"
     ]
    }
   ],
   "source": [
    "import base64\n",
    "\n",
    "hex_string = \"72bca9b68fc16ac7beeb8f849dca1d8a783e8acf9679bf9269f7bf\"\n",
    "\n",
    "# Decode to bytes\n",
    "_bytes = bytes.fromhex(hex_string)\n",
    "\n",
    "# Encode to base64\n",
    "_b64 = base64.b64encode(_bytes)\n",
    "\n",
    "# Print flag!\n",
    "print(\"Here is your flag:\")\n",
    "print(_b64)"
   ]
  },
  {
   "cell_type": "markdown",
   "metadata": {},
   "source": [
    "---\n",
    "### 05: Bytes and integers\n",
    "\n",
    "Cryptosystems like RSA works on numbers, but messages are made up of characters. How should we convert our messages into numbers so that mathematical operations can be applied?\n",
    "\n",
    "The most common way is to take the ordinal bytes of the message, convert them into hexadecimal, and concatenate. This can be interpreted as a base-16 number, and also represented in base-10.\n",
    "\n",
    "To illustrate:\n",
    "```\n",
    "message: HELLO\n",
    "ascii bytes: [72, 69, 76, 76, 79]\n",
    "hex bytes: [0x48, 0x45, 0x4c, 0x4c, 0x4f]\n",
    "base-16: 0x48454c4c4f\n",
    "base-10: 310400273487\n",
    "```\n",
    "\n",
    "Python's PyCryptodome library implements this with the methods: \n",
    "```\n",
    "Crypto.Util.number.bytes_to_long()\n",
    "Crypto.Util.number.long_to_bytes()\n",
    "```\n",
    "\n",
    "Convert the following integer back into a message:"
   ]
  },
  {
   "cell_type": "code",
   "execution_count": 21,
   "metadata": {},
   "outputs": [
    {
     "name": "stdout",
     "output_type": "stream",
     "text": [
      "Here is your flag:\n",
      "b'crypto{3nc0d1n6_4ll_7h3_w4y_d0wn}'\n"
     ]
    }
   ],
   "source": [
    "from Crypto.Util.number import long_to_bytes\n",
    "\n",
    "# Convert the following integer back into a message:\n",
    "message = \"11515195063862318899931685488813747395775516287289682636499965282714637259206269\"\n",
    "\n",
    "# Using Crypto library to convert the ints (long) to bytes\n",
    "message = long_to_bytes(message)\n",
    "\n",
    "# Print the flag!\n",
    "print(\"Here is your flag:\")\n",
    "print(message)"
   ]
  },
  {
   "cell_type": "markdown",
   "metadata": {},
   "source": [
    "### 06: XOR Basics\n",
    "\n",
    "XOR is a bitwise operator which returns 0 if the bits are the same, and 1 otherwise. In textbooks the XOR operator is denoted by ⊕, but in most challenges and programming languages you will see the caret ^ used instead.\n",
    "\n",
    "| A | B | Output |\n",
    "|---|---|--------|\n",
    "| 0 | 0 | 0      |\n",
    "| 0 | 1 | 1      |\n",
    "| 1 | 0 | 1      |\n",
    "| 1 | 1 | 0      |\n",
    "\n",
    "For longer binary numbers we XOR bit by bit: `0110 ^ 1010 = 1100`. We can XOR integers by first converting the integer from decimal to binary. We can XOR strings by first converting each character to the integer representing the Unicode character.\n",
    "\n",
    "Given the string `\"label\"`, XOR each character with the integer `13`. Convert these integers back to a string and submit the flag as crypto{new_string}."
   ]
  },
  {
   "cell_type": "code",
   "execution_count": 22,
   "metadata": {},
   "outputs": [
    {
     "name": "stdout",
     "output_type": "stream",
     "text": [
      "Here is your flag:\n",
      "crypto{aloha}\n"
     ]
    }
   ],
   "source": [
    "# Given the string \"label\", XOR each character with the integer 13. Convert these integers back to a string and submit the flag as crypto{new_string}.\n",
    "_str = \"label\"\n",
    "_int = 13\n",
    "\n",
    "# Declare a string to hold our flag value\n",
    "new_string = \"\"\n",
    "\n",
    "# Convert each character of _str to integer representation of Unicode character, XOR with _int and\n",
    "# add the result to new_string as a character representation of the product integer\n",
    "for c in _str:\n",
    "    # ord() converts a char to an int, and then we do the XOR ^\n",
    "    res = ord(c) ^ _int\n",
    "    # chr() converts an in to a char (opposite of ord()) and then we add that to new_string\n",
    "    new_string += chr(res)\n",
    "\n",
    "# Print the flag\n",
    "print(\"Here is your flag:\")\n",
    "print(\"crypto{\" + new_string + \"}\")"
   ]
  },
  {
   "cell_type": "markdown",
   "metadata": {},
   "source": [
    " The Python `pwntools` library has a convenient `xor()` function that can XOR together data of different types and lengths. Here is an example using this function to solve the above puzzle:"
   ]
  },
  {
   "cell_type": "code",
   "execution_count": 23,
   "metadata": {},
   "outputs": [
    {
     "name": "stdout",
     "output_type": "stream",
     "text": [
      "Here is your flag:\n",
      "crypto{aloha}\n"
     ]
    }
   ],
   "source": [
    "from pwn import xor\n",
    "\n",
    "_str = bytes(\"label\", 'utf8')       # or b'label'\n",
    "_int = 13\n",
    "\n",
    "_flag = xor(_str, 13)\n",
    "\n",
    "print(\"Here is your flag:\")\n",
    "print(\"crypto{\" + _flag.decode('utf8') + \"}\")"
   ]
  },
  {
   "cell_type": "markdown",
   "metadata": {},
   "source": [
    "### 07: XOR Properties\n",
    "\n",
    "In the last challenge, you saw how XOR worked at the level of bits. In this one, we're going to cover the properties of the XOR operation and then use them to undo a chain of operations that have encrypted a flag. Gaining an intuition for how this works will help greatly when you come to attacking real cryptosystems later, especially in the block ciphers category.\n",
    "\n",
    "There are four main properties we should consider when we solve challenges using the XOR operator\n",
    "\n",
    "```\n",
    "Commutative: A ⊕ B = B ⊕ A\n",
    "Associative: A ⊕ (B ⊕ C) = (A ⊕ B) ⊕ C\n",
    "Identity: A ⊕ 0 = A\n",
    "Self-Inverse: A ⊕ A = 0\n",
    "```\n",
    "\n",
    "Let's break this down. Commutative means that the order of the XOR operations is not important. Associative means that a chain of operations can be carried out without order (we do not need to worry about brackets). The identity is 0, so XOR with 0 \"does nothing\", and lastly something XOR'd with itself returns zero.\n",
    "\n",
    "Let's try this out in action! Below is a series of outputs where three random keys have been XOR'd together and with the flag. Use the above properties to undo the encryption in the final line to obtain the flag.\n",
    "```\n",
    "KEY1 = a6c8b6733c9b22de7bc0253266a3867df55acde8635e19c73313\n",
    "KEY2 ^ KEY1 = 37dcb292030faa90d07eec17e3b1c6d8daf94c35d4c9191a5e1e\n",
    "KEY2 ^ KEY3 = c1545756687e7573db23aa1c3452a098b71a7fbf0fddddde5fc1\n",
    "FLAG ^ KEY1 ^ KEY3 ^ KEY2 = 04ee9855208a2cd59091d04767ae47963170d1660df7f56f5faf\n",
    "```\n",
    "\n",
    " Before you XOR these objects, be sure to decode from hex to bytes."
   ]
  },
  {
   "cell_type": "code",
   "execution_count": 24,
   "metadata": {},
   "outputs": [
    {
     "name": "stdout",
     "output_type": "stream",
     "text": [
      "Check for Key: 37dcb292030faa90d07eec17e3b1c6d8daf94c35d4c9191a5e1e\n",
      "Check for Key: c1545756687e7573db23aa1c3452a098b71a7fbf0fddddde5fc1\n",
      "Check for Key: 04ee9855208a2cd59091d04767ae47963170d1660df7f56f5faf\n",
      "Here is your flag:\n",
      "crypto{x0r_i5_ass0c1at1v3}\n"
     ]
    }
   ],
   "source": [
    "def bxor(b1, b2):\n",
    "    # It seems we cannot XOR bytes in Python (?), so we need to create a function to do that\n",
    "    result = bytearray(b1)\n",
    "    for i, b in enumerate(b2):\n",
    "        result[i] ^= b\n",
    "    return bytes(result)\n",
    "\n",
    "\n",
    "def findKeyByXORproduct(k1, k1XORk2):\n",
    "    # We use the Associative property to find one of the keys of a XOR product\n",
    "    k = bxor(k1, k1XORk2)\n",
    "    print(\"Check for Key:\", bytes.hex(bxor(k1, k)))\n",
    "    return k\n",
    "\n",
    "    # Convert the known key to bytes\n",
    "_key1 = bytes.fromhex(\"a6c8b6733c9b22de7bc0253266a3867df55acde8635e19c73313\")\n",
    "\n",
    "# Convert the known XOR products to bytes\n",
    "_product_key1_xor_key2 = bytes.fromhex(\n",
    "    \"37dcb292030faa90d07eec17e3b1c6d8daf94c35d4c9191a5e1e\")\n",
    "_product_key2_xor_key3 = bytes.fromhex(\n",
    "    \"c1545756687e7573db23aa1c3452a098b71a7fbf0fddddde5fc1\")\n",
    "\n",
    "_product_flag_xor_all_keys = bytes.fromhex(\n",
    "    \"04ee9855208a2cd59091d04767ae47963170d1660df7f56f5faf\")\n",
    "\n",
    "# Use the Associative property to find keys 2 and 3, since we know what KEY2 ^ KEY1 and KEY2 ^ KEY3 should become:\n",
    "_key2 = findKeyByXORproduct(_key1, _product_key1_xor_key2)\n",
    "_key3 = findKeyByXORproduct(_key2, _product_key2_xor_key3)\n",
    "\n",
    "# We know that order of operations are not important (Commutative property) and we know we can exploit the Associative property to find _key1 ^ _key2 ^ _key3\n",
    "_key123 = bxor(_key1, _product_key2_xor_key3)\n",
    "\n",
    "# Find the flag now by using the Associative property one last time\n",
    "_flag_as_bytestring = findKeyByXORproduct(_key123, _product_flag_xor_all_keys)\n",
    "\n",
    "print(\"Here is your flag:\")\n",
    "print(_flag_as_bytestring.decode(\"utf-8\"))"
   ]
  },
  {
   "cell_type": "code",
   "execution_count": 25,
   "metadata": {},
   "outputs": [
    {
     "name": "stdout",
     "output_type": "stream",
     "text": [
      "Here is your flag:\n",
      "crypto{x0r_i5_ass0c1at1v3}\n"
     ]
    }
   ],
   "source": [
    "### Alternate solution using 'pwntools'\n",
    "from pwn import xor\n",
    "\n",
    "k1 = bytes.fromhex('a6c8b6733c9b22de7bc0253266a3867df55acde8635e19c73313')\n",
    "k2_xor_k3 = bytes.fromhex('c1545756687e7573db23aa1c3452a098b71a7fbf0fddddde5fc1')\n",
    "flag = bytes.fromhex('04ee9855208a2cd59091d04767ae47963170d1660df7f56f5faf')\n",
    "\n",
    "print(\"Here is your flag:\")\n",
    "print(xor(k1, k2_xor_k3, flag).decode(\"utf-8\"))"
   ]
  },
  {
   "cell_type": "markdown",
   "metadata": {},
   "source": [
    "### 08: Favorite Byte\n",
    "\n",
    "For the next few challenges, you'll use what you've just learned to solve some more XOR puzzles.\n",
    "\n",
    "I've hidden some data using XOR with a single byte, but that byte is a secret. Don't forget to decode from hex first."
   ]
  },
  {
   "cell_type": "code",
   "execution_count": 37,
   "metadata": {},
   "outputs": [
    {
     "name": "stdout",
     "output_type": "stream",
     "text": [
      "Here is your flag:\n",
      "crypto{0x10_15_my_f4v0ur173_by7e}\n"
     ]
    }
   ],
   "source": [
    "from pwn import xor\n",
    "from re import search\n",
    "\n",
    "cipher = bytes.fromhex(\"73626960647f6b206821204f21254f7d694f7624662065622127234f726927756d\")\n",
    "\n",
    "print(\"Here is your flag:\")\n",
    "# A single bytes means an integer value of between 0-255, assuming it is unsigned\n",
    "for i in range(0, 256):\n",
    "    # Lets wrap it in a try-catch as some of the XOR results might not be decodable (non-ascii characters)\n",
    "    try:\n",
    "        flag = xor(cipher, i).decode('utf8')\n",
    "\n",
    "        # We know that the flag will have a certain format, so we can use that to filter out\n",
    "        if search(\"crypto{\", xor(cipher, i).decode('utf8')) is not None:\n",
    "            print(flag)\n",
    "    except:\n",
    "        pass"
   ]
  }
 ],
 "metadata": {
  "interpreter": {
   "hash": "31f2aee4e71d21fbe5cf8b01ff0e069b9275f58929596ceb00d14d90e3e16cd6"
  },
  "kernelspec": {
   "display_name": "Python 3.8.9 64-bit",
   "language": "python",
   "name": "python3"
  },
  "language_info": {
   "codemirror_mode": {
    "name": "ipython",
    "version": 3
   },
   "file_extension": ".py",
   "mimetype": "text/x-python",
   "name": "python",
   "nbconvert_exporter": "python",
   "pygments_lexer": "ipython3",
   "version": "3.8.12"
  },
  "orig_nbformat": 4
 },
 "nbformat": 4,
 "nbformat_minor": 2
}
