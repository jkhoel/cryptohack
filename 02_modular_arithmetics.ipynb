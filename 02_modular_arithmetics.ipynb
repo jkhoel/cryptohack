{
 "cells": [
  {
   "cell_type": "markdown",
   "metadata": {},
   "source": [
    "# Modular Arithmetics\n",
    "\n",
    "Unlike the integers which just get bigger and bigger, modular arithmetic instead \"wraps around\" and returns back to zero. Think about clocks, and that how after 23:59 we reach 00:00 instead of 24:00. This introduces subtle changes from the mathematics of our childhood and it's worth taking the time to get used to these differences.\n",
    "\n",
    "Code sollutions can also be found as seperate files in `./modular_arithmetics` folder\n"
   ]
  },
  {
   "cell_type": "markdown",
   "metadata": {},
   "source": [
    "---\n",
    "\n",
    "### 01: Greatest Common Divisor (GCD)\n",
    "\n",
    "The Greatest Common Divisor (GCD), sometimes known as the highest common factor, is the largest number which divides two positive integers (a,b).\n",
    "\n",
    "For `a = 12, b = 8` we can calculate the divisors of a: `{1,2,3,4,6,12}` and the divisors of b: `{1,2,4,8}`. Comparing these two, we see that `gcd(a,b) = 4`.\n",
    "\n",
    "Now imagine we take `a = 11, b = 17`. Both `a` and `b` are prime numbers. As a prime number has only itself and `1` as divisors, `gcd(a,b) = 1`.\n",
    "\n",
    "We say that for any two integers `a,b`, if `gcd(a,b) = 1` then `a` and `b` are coprime integers.\n",
    "\n",
    "If `a` and `b` are prime, they are also coprime. If `a` is prime and `b < a` then `a` and `b` are coprime.\n",
    "\n",
    "There are many tools to calculate the GCD of two integers, but for this task we recommend looking up [Euclid's Algorithm](https://en.wikipedia.org/wiki/Euclidean_algorithm).\n",
    "\n",
    "Try coding it up; it's only a couple of lines. Use `a = 12`, `b = 8` to test it.\n",
    "\n",
    "Now calculate `gcd(a,b)` for `a = 66528`, `b = 52920` and enter it below.\n"
   ]
  },
  {
   "cell_type": "code",
   "execution_count": 260,
   "metadata": {},
   "outputs": [
    {
     "name": "stdout",
     "output_type": "stream",
     "text": [
      "GCD: 1512\n"
     ]
    }
   ],
   "source": [
    "# Greates Common Divisor using Euclid's Algorithm\n",
    "\n",
    "# Get input values\n",
    "# input = [12, 8]\n",
    "input = [66528, 52920]\n",
    "\n",
    "# Sort them in descending order of magnitude\n",
    "input.sort(reverse=True)\n",
    "\n",
    "# Get the values into variables that are more litteral\n",
    "a = input[0]\n",
    "b = input[1]\n",
    "\n",
    "# The GCD will be the value of a and b when the remainder is zero. We will call gcd() recursivly until that happens\n",
    "def gcd(a,b):\n",
    "    if(b == 0): return a\n",
    "    return gcd(b, a % b)\n",
    "\n",
    "print(\"GCD:\", gcd(a,b))\n"
   ]
  },
  {
   "cell_type": "code",
   "execution_count": 261,
   "metadata": {},
   "outputs": [
    {
     "name": "stdout",
     "output_type": "stream",
     "text": [
      "GCD:  1512\n"
     ]
    }
   ],
   "source": [
    "# Alternate solution using conditional (ternary) expressions.\n",
    "def gcd(a, b): return gcd(b % a, a) if a else b\n",
    "print(\"GCD: \", gcd(66528, 52920))"
   ]
  },
  {
   "cell_type": "markdown",
   "metadata": {},
   "source": [
    "---\n",
    "\n",
    "### 02: Extended GCD\n",
    "\n",
    "Let `a` and `b` be positive integers.\n",
    "\n",
    "The extended Euclidean algorithm is an efficient way to find integers `u`,`v` such that:\n",
    "`a * u + b * v = gcd(a,b)`\n",
    "\n",
    "> Later, when we learn to decrypt RSA, we will need this algorithm to calculate the modular inverse of the public exponent.\n",
    "\n",
    "For more details on the extended Euclidean algorithm, check out [this page](http://www-math.ucdenver.edu/~wcherowi/courses/m5410/exeucalg.html) as well as [wikipedia](https://en.wikipedia.org/wiki/Extended_Euclidean_algorithm). See also [modular multiplactive inverse](https://en.wikipedia.org/wiki/Modular_multiplicative_inverse)\n",
    "\n",
    "But the best resouce is [this page over at brilliant.org](https://brilliant.org/wiki/extended-euclidean-algorithm/)\n",
    "\n",
    "\n",
    "\n",
    "Using the two primes `p = 26513`, `q = 32321` - find the integers `u`,`v` such that:\n",
    "`p * u + q * v = gcd(p,q)`\n",
    "\n",
    "Enter whichever of u and v is the lower number as the flag."
   ]
  },
  {
   "cell_type": "code",
   "execution_count": 262,
   "metadata": {},
   "outputs": [
    {
     "name": "stdout",
     "output_type": "stream",
     "text": [
      "au+bv = gdc(a,b) => u,v: 10245 -8404\n",
      "GCD: 1\n"
     ]
    }
   ],
   "source": [
    "p = 26513\n",
    "q = 32321\n",
    "\n",
    "def extended_gcd(a, b):\n",
    "    if a == 0: \n",
    "        return b, 0, 1\n",
    "\n",
    "    gcd, u, v = extended_gcd(b%a, a)\n",
    "    return gcd, v - (b//a) * u, u\n",
    "\n",
    "g, u, v = extended_gcd(p, q)\n",
    "print(\"au+bv = gdc(a,b) => u,v:\", u, v)\n",
    "print(\"GCD:\", g)"
   ]
  },
  {
   "cell_type": "markdown",
   "metadata": {},
   "source": [
    "---\n",
    "### 03: Modular Arithmetic 1\n",
    "\n",
    "Imagine you lean over and look at a cryptographer's notebook. You see some notes in the margin:\n",
    "```\n",
    "4 + 9 = 1\n",
    "5 - 7 = 10\n",
    "2 + 3 = 5\n",
    "```\n",
    "\n",
    "At first you might think they've gone mad. Maybe this is why there are so many data leaks nowadays you'd think, but this is nothing more than modular arithmetic modulo 12 (albeit with some sloppy notation).\n",
    "\n",
    "You may not have been calling it modular arithmetic, but you've been doing these kinds of calculations since you learnt to tell the time (look again at those equations and think about adding hours).\n",
    "\n",
    "Formally, \"calculating time\" is described by the theory of congruences. We say that two integers are congruent modulo m if `a ≡ b mod m`.\n",
    "\n",
    "Another way of saying this, is that when we divide the integer `a` by `m`, the remainder is `b`. This tells you that if m divides a (this can be written as `m | a`) then `a ≡ 0 mod m`.\n",
    "\n",
    "> For a positive integer `n`, the integers `a` and `b` are congruent mod `n` if their remainders when divided by `n` are the same.\n",
    "\n",
    "Calculate the following integers:\n",
    "```\n",
    "11 ≡ x mod 6\n",
    "8146798528947 ≡ y mod 17\n",
    "```\n",
    "\n",
    "The solution is the smaller of the two integers."
   ]
  },
  {
   "cell_type": "code",
   "execution_count": 263,
   "metadata": {},
   "outputs": [
    {
     "name": "stdout",
     "output_type": "stream",
     "text": [
      "4\n"
     ]
    }
   ],
   "source": [
    "\"\"\"\n",
    "The Congruence modulo relatuon can be transformed to a modulo operation:\n",
    "a ≡ b mod m <=> a % m = b\n",
    "\n",
    "Since a ≡ b mod m, then if we divide the integer a by m we get the remainder is b . b is then the remainder of the euclidean division between a and m.\n",
    "\"\"\"\n",
    "x = 11 % 6                  # 11 ≡ x mod 6\n",
    "y = 8146798528947 % 17      # 18146798528947 ≡ y mod 17\n",
    "\n",
    "print(min(x, y))\n"
   ]
  },
  {
   "cell_type": "markdown",
   "metadata": {},
   "source": [
    "---\n",
    "\n",
    "### 04: Modular Arithmetic 2\n",
    "\n",
    "We'll pick up from the last challenge and imagine we've picked a modulus `p`, and we will restrict ourselves to the case when `p` is prime.\n",
    "\n",
    "The integers modulo `p` define a field, denoted `Fp`.\n",
    "\n",
    "> If the modulus is not prime, the set of integers modulo `n` define a ring.\n",
    "\n",
    "A finite field `Fp` is the set of integers `{0,1,...,p-1}`, and under both addition and multiplication there is an inverser element `b`for every element `a` in the set, such that `a + b = 0` and `a * b = 1`.\n",
    "\n",
    "> Note that the identity element for addition and multiplication us different! This is because the identity when acted with the operator should do nothing: `a + 0 = a` and `a * 1 = a`.\n",
    "\n",
    "Lets say we pick `p = 17`. Calculate `3^17 mod 17`. Now do the same but with `5^17 mod 17`. What would you expect to get for `7^16 mod 17`? Try calculating that.\n",
    "\n",
    "This interesting fact is known as _Fermat's little theorem_. We'll be needing this (and its generalisations) when we look at RSA cryptography.\n",
    "\n",
    "Now take the prime `p = 65537`. Calculate `273246787654^65536 mod 65537`.\n",
    "Did you need a calculator?\n"
   ]
  },
  {
   "cell_type": "code",
   "execution_count": 264,
   "metadata": {},
   "outputs": [
    {
     "name": "stdout",
     "output_type": "stream",
     "text": [
      "1 - a and p are coprime!\n",
      "Result: 1\n"
     ]
    }
   ],
   "source": [
    "\"\"\"\n",
    "Looking at Fermat's little theorem (https://en.wikipedia.org/wiki/Fermat%27s_little_theorem):\n",
    "\n",
    "if p is prime, for every integer a:\n",
    "        pow(a, p) = a mod p\n",
    "\n",
    "And, if p is prime and a is an integer coprime with p:\n",
    "        pow(a, p-1) = 1 mod p\n",
    "\n",
    "So lets check\n",
    "        pow(273246787654, 65536) mod 65537\n",
    "\n",
    "Notice that 65536 is exactly 65537-1, and if 273246787654 and 65537 \n",
    "are coprime then the result is one:\n",
    "\"\"\"\n",
    "from math import gcd\n",
    "\n",
    "# If a and p are indeed coprime, we expect the result to be 1\n",
    "if gcd(a,p) == 1:\n",
    "    print(\"1 - a and p are coprime!\")\n",
    "\n",
    "\n",
    "### We can verify this:\n",
    "\n",
    "# Calculates x^y under modulo m\n",
    "def power(x,y,m):\n",
    "    if(y == 0): \n",
    "        return 1\n",
    "    p = power(x, y // 2, m) % m\n",
    "    p = (p * p) % m\n",
    "    return p if (y % 2 == 0) else (x * p) % m\n",
    "\n",
    "\n",
    "print(\"Result: \" + str(power(273246787654,65536,65537)))"
   ]
  },
  {
   "cell_type": "markdown",
   "metadata": {},
   "source": [
    "---\n",
    "\n",
    "### 05: Modular Inverting\n",
    "\n",
    "As we've seen, we can work within a finite field `Fp`, adding and multiplying elements, and always obtain another element of the field.\n",
    "\n",
    "For all elements `g` in the field, there exists a unique integer `d` such that `g * d ≡ 1 mod p`.\n",
    "This is the multiplicative inverse of `g`.\n",
    "\n",
    "Example: `7 * 8 = 56 ≡ 1 mod 11`\n",
    "\n",
    "What is the inverse element: `3 * d ≡ 1 mod 13`?\n",
    "\n",
    "> Think about the little theorem we just worked with. How does this help you find the inverse of an element?\n"
   ]
  },
  {
   "cell_type": "code",
   "execution_count": 265,
   "metadata": {},
   "outputs": [
    {
     "name": "stdout",
     "output_type": "stream",
     "text": [
      "Modular multiplicative inverse is  9.0\n",
      "9.0\n",
      "9\n"
     ]
    }
   ],
   "source": [
    "\"\"\"\n",
    "Looking again at Fermat's little theorem:\n",
    "\n",
    "if p is prime, for every integer a:\n",
    "        pow(a, p) = a mod p\n",
    "and, if p is prime and a is an integer coprime with p:\n",
    "        pow(a, p-1) = 1 mod p\n",
    "\n",
    "We can do some magic like this (a^b means pow(a,b)):\n",
    "        a^(p-1) = 1 (mod p)\n",
    "        a^(p-1) * a^-1 = a^-1 (mod p)\n",
    "        a^(p-2) * a * a^-1 = a^-1 (mod p)\n",
    "        a^(p-2) * 1 = a^-1 (mod p)\n",
    "\n",
    "So finally we have:\n",
    "        a^(p-2) = a^-1 (mod p)\n",
    "\n",
    "So, doing a^(p-2) and then (mod p) we can achieve our result\n",
    "\"\"\"\n",
    "from math import gcd, pow\n",
    "\n",
    "# Finds modular inverse of a under modulo m, assuming m is prime\n",
    "def mod_inverse(a, m):\n",
    "    if(gcd(a,m) != 1):\n",
    "        print(\"Inverse does not exist!\")\n",
    "    else:\n",
    "        # if a and m are relatively prime, then mod inverse is a^(m-2) mod m\n",
    "        print(\"Modular multiplicative inverse is \", pow(a, m - 2) % m)\n",
    "\n",
    "mod_inverse(3, 13)\n",
    "\n",
    "\"\"\"\n",
    "Another way to look at it is like this:\n",
    "\n",
    "The problem given is 3 * d ≡ 1 mod 13\n",
    "\n",
    "To calculate d we can divide both sides by 3 which gives us:\n",
    "  d = (1/3) * 1 mod 13 \n",
    "\n",
    "And we can rewrite that to:\n",
    "  d = 3^-1 mod 13\n",
    "\n",
    "This is what the hint about the theorem eludes to as this is basically the inverse of 3 mod 13.\n",
    "\"\"\"\n",
    "a = 3\n",
    "p = 13\n",
    "\n",
    "print(pow(a, p - 2) % p)\n",
    "\n",
    "\"\"\"\n",
    "Or - just cheat and use some library ;)\n",
    "\"\"\"\n",
    "from Crypto.Util.number import inverse\n",
    "print(inverse(3, 13))"
   ]
  }
 ],
 "metadata": {
  "interpreter": {
   "hash": "0a54b219c23c08afbcef70b9cf4650f9b997ed108d9745176ed911d6ac1446a3"
  },
  "kernelspec": {
   "display_name": "Python 3.8.12 64-bit ('3.8.12': pyenv)",
   "language": "python",
   "name": "python3"
  },
  "language_info": {
   "codemirror_mode": {
    "name": "ipython",
    "version": 3
   },
   "file_extension": ".py",
   "mimetype": "text/x-python",
   "name": "python",
   "nbconvert_exporter": "python",
   "pygments_lexer": "ipython3",
   "version": "3.8.12"
  },
  "orig_nbformat": 4
 },
 "nbformat": 4,
 "nbformat_minor": 2
}
