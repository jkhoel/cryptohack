{
 "cells": [
  {
   "cell_type": "markdown",
   "metadata": {},
   "source": [
    "# Modular Arithmetics\n",
    "\n",
    "Unlike the integers which just get bigger and bigger, modular arithmetic instead \"wraps around\" and returns back to zero. Think about clocks, and that how after 23:59 we reach 00:00 instead of 24:00. This introduces subtle changes from the mathematics of our childhood and it's worth taking the time to get used to these differences.\n",
    "\n",
    "Code sollutions can also be found as seperate files in `./modular_arithmetics` folder\n"
   ]
  },
  {
   "cell_type": "markdown",
   "metadata": {},
   "source": [
    "---\n",
    "\n",
    "### 01: Greatest Common Divisor (GCD)\n",
    "\n",
    "The Greatest Common Divisor (GCD), sometimes known as the highest common factor, is the largest number which divides two positive integers (a,b).\n",
    "\n",
    "For `a = 12, b = 8` we can calculate the divisors of a: `{1,2,3,4,6,12}` and the divisors of b: `{1,2,4,8}`. Comparing these two, we see that `gcd(a,b) = 4`.\n",
    "\n",
    "Now imagine we take `a = 11, b = 17`. Both `a` and `b` are prime numbers. As a prime number has only itself and `1` as divisors, `gcd(a,b) = 1`.\n",
    "\n",
    "We say that for any two integers `a,b`, if `gcd(a,b) = 1` then `a` and `b` are coprime integers.\n",
    "\n",
    "If `a` and `b` are prime, they are also coprime. If `a` is prime and `b < a` then `a` and `b` are coprime.\n",
    "\n",
    "There are many tools to calculate the GCD of two integers, but for this task we recommend looking up [Euclid's Algorithm](https://en.wikipedia.org/wiki/Euclidean_algorithm).\n",
    "\n",
    "Try coding it up; it's only a couple of lines. Use `a = 12`, `b = 8` to test it.\n",
    "\n",
    "Now calculate `gcd(a,b)` for `a = 66528`, `b = 52920` and enter it below.\n"
   ]
  },
  {
   "cell_type": "code",
   "execution_count": 103,
   "metadata": {},
   "outputs": [
    {
     "name": "stdout",
     "output_type": "stream",
     "text": [
      "GCD: (1512, -1, 4)\n"
     ]
    }
   ],
   "source": [
    "# Greates Common Divisor using Euclid's Algorithm\n",
    "\n",
    "# Get input values\n",
    "# input = [12, 8]\n",
    "input = [66528, 52920]\n",
    "\n",
    "# Sort them in descending order of magnitude\n",
    "input.sort(reverse=True)\n",
    "\n",
    "# Get the values into variables that are more litteral\n",
    "a = input[0]\n",
    "b = input[1]\n",
    "\n",
    "# The GCD will be the value of a and b when the remainder is zero. We will call gcd() recursivly until that happens\n",
    "def gcd(a,b):\n",
    "    if(b == 0): return a\n",
    "    return extended_gcd(b, a % b)\n",
    "\n",
    "print(\"GCD:\", gcd(a,b))\n"
   ]
  },
  {
   "cell_type": "code",
   "execution_count": 104,
   "metadata": {},
   "outputs": [
    {
     "name": "stdout",
     "output_type": "stream",
     "text": [
      "GCD:  1512\n"
     ]
    }
   ],
   "source": [
    "# Alternate solution using conditional (ternary) expressions.\n",
    "def gcd(a, b): return gcd(b % a, a) if a else b\n",
    "print(\"GCD: \", gcd(66528, 52920))"
   ]
  },
  {
   "cell_type": "markdown",
   "metadata": {},
   "source": [
    "### 02: Extended GCD\n",
    "\n",
    "Let `a` and `b` be positive integers.\n",
    "\n",
    "The extended Euclidean algorithm is an efficient way to find integers `u`,`v` such that:\n",
    "`a * u + b * v = gcd(a,b)`\n",
    "\n",
    "> Later, when we learn to decrypt RSA, we will need this algorithm to calculate the modular inverse of the public exponent.\n",
    "\n",
    "For more details on the extended Euclidean algorithm, check out [this page](http://www-math.ucdenver.edu/~wcherowi/courses/m5410/exeucalg.html) as well as [wikipedia](https://en.wikipedia.org/wiki/Extended_Euclidean_algorithm). See also [modular multiplactive inverse](https://en.wikipedia.org/wiki/Modular_multiplicative_inverse)\n",
    "\n",
    "But the best resouce is [this page over at brilliant.org](https://brilliant.org/wiki/extended-euclidean-algorithm/)\n",
    "\n",
    "\n",
    "\n",
    "Using the two primes `p = 26513`, `q = 32321` - find the integers `u`,`v` such that:\n",
    "`p * u + q * v = gcd(p,q)`\n",
    "\n",
    "Enter whichever of u and v is the lower number as the flag.\n"
   ]
  },
  {
   "cell_type": "code",
   "execution_count": 115,
   "metadata": {},
   "outputs": [
    {
     "name": "stdout",
     "output_type": "stream",
     "text": [
      "au+bv = gdc(a,b) => u,v: 10245 -8404\n",
      "GCD: 1\n"
     ]
    }
   ],
   "source": [
    "\"\"\"\n",
    "For the best explantion of the Extended Euclidean Algorithm, see https://brilliant.org/wiki/extended-euclidean-algorithm/\n",
    "\"\"\"\n",
    "\n",
    "p = 26513\n",
    "q = 32321\n",
    "\n",
    "def extended_gcd(a, b):\n",
    "    if a == 0: \n",
    "        return b, 0, 1\n",
    "\n",
    "    gcd, u, v = extended_gcd(b%a, a)\n",
    "    return gcd, v - (b//a) * u, u\n",
    "\n",
    "g, u, v = extended_gcd(p, q)\n",
    "print(\"au+bv = gdc(a,b) => u,v:\", u, v)\n",
    "print(\"GCD:\", g)"
   ]
  }
 ],
 "metadata": {
  "interpreter": {
   "hash": "0a54b219c23c08afbcef70b9cf4650f9b997ed108d9745176ed911d6ac1446a3"
  },
  "kernelspec": {
   "display_name": "Python 3.8.12 64-bit ('3.8.12': pyenv)",
   "language": "python",
   "name": "python3"
  },
  "language_info": {
   "codemirror_mode": {
    "name": "ipython",
    "version": 3
   },
   "file_extension": ".py",
   "mimetype": "text/x-python",
   "name": "python",
   "nbconvert_exporter": "python",
   "pygments_lexer": "ipython3",
   "version": "3.8.12"
  },
  "orig_nbformat": 4
 },
 "nbformat": 4,
 "nbformat_minor": 2
}
